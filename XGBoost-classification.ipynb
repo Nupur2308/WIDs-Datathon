{
 "cells": [
  {
   "cell_type": "code",
   "execution_count": 65,
   "id": "7c9bc96d",
   "metadata": {},
   "outputs": [],
   "source": [
    "import itertools\n",
    "from pathlib import Path\n",
    "from datetime import datetime\n",
    "from xgboost.sklearn import XGBClassifier\n",
    "\n",
    "import numpy as np \n",
    "import pandas as pd \n",
    "import matplotlib.pyplot as plt\n",
    "import seaborn as sns\n",
    "from sklearn.model_selection import RandomizedSearchCV, StratifiedKFold\n",
    "from sklearn.model_selection import train_test_split, cross_val_score\n",
    "from sklearn import metrics \n",
    "from sklearn.metrics import accuracy_score, confusion_matrix, roc_curve, auc\n",
    "from hyperopt import STATUS_OK, Trials, fmin, hp, tpe\n",
    "from hyperopt.pyll import scope"
   ]
  },
  {
   "cell_type": "code",
   "execution_count": 2,
   "id": "fe73bba9",
   "metadata": {},
   "outputs": [],
   "source": [
    "#https://www.kaggle.com/ronitf/heart-disease-uci \n",
    "data = pd.read_csv('heart.csv')"
   ]
  },
  {
   "cell_type": "code",
   "execution_count": 3,
   "id": "e73b808a",
   "metadata": {},
   "outputs": [
    {
     "data": {
      "text/html": [
       "<div>\n",
       "<style scoped>\n",
       "    .dataframe tbody tr th:only-of-type {\n",
       "        vertical-align: middle;\n",
       "    }\n",
       "\n",
       "    .dataframe tbody tr th {\n",
       "        vertical-align: top;\n",
       "    }\n",
       "\n",
       "    .dataframe thead th {\n",
       "        text-align: right;\n",
       "    }\n",
       "</style>\n",
       "<table border=\"1\" class=\"dataframe\">\n",
       "  <thead>\n",
       "    <tr style=\"text-align: right;\">\n",
       "      <th></th>\n",
       "      <th>age</th>\n",
       "      <th>sex</th>\n",
       "      <th>cp</th>\n",
       "      <th>trestbps</th>\n",
       "      <th>chol</th>\n",
       "      <th>fbs</th>\n",
       "      <th>restecg</th>\n",
       "      <th>thalach</th>\n",
       "      <th>exang</th>\n",
       "      <th>oldpeak</th>\n",
       "      <th>slope</th>\n",
       "      <th>ca</th>\n",
       "      <th>thal</th>\n",
       "      <th>target</th>\n",
       "    </tr>\n",
       "  </thead>\n",
       "  <tbody>\n",
       "    <tr>\n",
       "      <th>0</th>\n",
       "      <td>63</td>\n",
       "      <td>1</td>\n",
       "      <td>3</td>\n",
       "      <td>145</td>\n",
       "      <td>233</td>\n",
       "      <td>1</td>\n",
       "      <td>0</td>\n",
       "      <td>150</td>\n",
       "      <td>0</td>\n",
       "      <td>2.3</td>\n",
       "      <td>0</td>\n",
       "      <td>0</td>\n",
       "      <td>1</td>\n",
       "      <td>1</td>\n",
       "    </tr>\n",
       "    <tr>\n",
       "      <th>1</th>\n",
       "      <td>37</td>\n",
       "      <td>1</td>\n",
       "      <td>2</td>\n",
       "      <td>130</td>\n",
       "      <td>250</td>\n",
       "      <td>0</td>\n",
       "      <td>1</td>\n",
       "      <td>187</td>\n",
       "      <td>0</td>\n",
       "      <td>3.5</td>\n",
       "      <td>0</td>\n",
       "      <td>0</td>\n",
       "      <td>2</td>\n",
       "      <td>1</td>\n",
       "    </tr>\n",
       "    <tr>\n",
       "      <th>2</th>\n",
       "      <td>41</td>\n",
       "      <td>0</td>\n",
       "      <td>1</td>\n",
       "      <td>130</td>\n",
       "      <td>204</td>\n",
       "      <td>0</td>\n",
       "      <td>0</td>\n",
       "      <td>172</td>\n",
       "      <td>0</td>\n",
       "      <td>1.4</td>\n",
       "      <td>2</td>\n",
       "      <td>0</td>\n",
       "      <td>2</td>\n",
       "      <td>1</td>\n",
       "    </tr>\n",
       "    <tr>\n",
       "      <th>3</th>\n",
       "      <td>56</td>\n",
       "      <td>1</td>\n",
       "      <td>1</td>\n",
       "      <td>120</td>\n",
       "      <td>236</td>\n",
       "      <td>0</td>\n",
       "      <td>1</td>\n",
       "      <td>178</td>\n",
       "      <td>0</td>\n",
       "      <td>0.8</td>\n",
       "      <td>2</td>\n",
       "      <td>0</td>\n",
       "      <td>2</td>\n",
       "      <td>1</td>\n",
       "    </tr>\n",
       "    <tr>\n",
       "      <th>4</th>\n",
       "      <td>57</td>\n",
       "      <td>0</td>\n",
       "      <td>0</td>\n",
       "      <td>120</td>\n",
       "      <td>354</td>\n",
       "      <td>0</td>\n",
       "      <td>1</td>\n",
       "      <td>163</td>\n",
       "      <td>1</td>\n",
       "      <td>0.6</td>\n",
       "      <td>2</td>\n",
       "      <td>0</td>\n",
       "      <td>2</td>\n",
       "      <td>1</td>\n",
       "    </tr>\n",
       "  </tbody>\n",
       "</table>\n",
       "</div>"
      ],
      "text/plain": [
       "   age  sex  cp  trestbps  chol  fbs  restecg  thalach  exang  oldpeak  slope  \\\n",
       "0   63    1   3       145   233    1        0      150      0      2.3      0   \n",
       "1   37    1   2       130   250    0        1      187      0      3.5      0   \n",
       "2   41    0   1       130   204    0        0      172      0      1.4      2   \n",
       "3   56    1   1       120   236    0        1      178      0      0.8      2   \n",
       "4   57    0   0       120   354    0        1      163      1      0.6      2   \n",
       "\n",
       "   ca  thal  target  \n",
       "0   0     1       1  \n",
       "1   0     2       1  \n",
       "2   0     2       1  \n",
       "3   0     2       1  \n",
       "4   0     2       1  "
      ]
     },
     "execution_count": 3,
     "metadata": {},
     "output_type": "execute_result"
    }
   ],
   "source": [
    "data.head()"
   ]
  },
  {
   "cell_type": "code",
   "execution_count": 4,
   "id": "e924b96c",
   "metadata": {},
   "outputs": [
    {
     "data": {
      "text/plain": [
       "(303, 14)"
      ]
     },
     "execution_count": 4,
     "metadata": {},
     "output_type": "execute_result"
    }
   ],
   "source": [
    "data.shape"
   ]
  },
  {
   "cell_type": "code",
   "execution_count": 5,
   "id": "e18e4d6e",
   "metadata": {},
   "outputs": [
    {
     "data": {
      "text/plain": [
       "(303, 14)"
      ]
     },
     "execution_count": 5,
     "metadata": {},
     "output_type": "execute_result"
    }
   ],
   "source": [
    "data.dropna(inplace = True)\n",
    "data.shape"
   ]
  },
  {
   "cell_type": "code",
   "execution_count": 6,
   "id": "e792060a",
   "metadata": {},
   "outputs": [
    {
     "data": {
      "text/plain": [
       "array([[63.,  1.,  3., ...,  0.,  0.,  1.],\n",
       "       [37.,  1.,  2., ...,  0.,  0.,  2.],\n",
       "       [41.,  0.,  1., ...,  2.,  0.,  2.],\n",
       "       ...,\n",
       "       [68.,  1.,  0., ...,  1.,  2.,  3.],\n",
       "       [57.,  1.,  0., ...,  1.,  1.,  3.],\n",
       "       [57.,  0.,  1., ...,  1.,  1.,  2.]])"
      ]
     },
     "execution_count": 6,
     "metadata": {},
     "output_type": "execute_result"
    }
   ],
   "source": [
    "X = data.iloc[:,:-1].to_numpy()\n",
    "X"
   ]
  },
  {
   "cell_type": "code",
   "execution_count": 7,
   "id": "143e0d51",
   "metadata": {},
   "outputs": [
    {
     "data": {
      "text/plain": [
       "(303,)"
      ]
     },
     "execution_count": 7,
     "metadata": {},
     "output_type": "execute_result"
    }
   ],
   "source": [
    "y = data.iloc[:,-1:].to_numpy().ravel()\n",
    "y.shape"
   ]
  },
  {
   "cell_type": "markdown",
   "id": "c64f91e9",
   "metadata": {},
   "source": [
    "## XGBoost Classifier without any preprocessing / cv / hyperparameter tuning"
   ]
  },
  {
   "cell_type": "code",
   "execution_count": 8,
   "id": "073be74f",
   "metadata": {},
   "outputs": [],
   "source": [
    "seed = 7\n",
    "test_size = 0.33\n",
    "X_train, X_test, y_train, y_test = train_test_split(X, y, test_size=test_size, random_state=seed)"
   ]
  },
  {
   "cell_type": "code",
   "execution_count": 9,
   "id": "0c36e1e0",
   "metadata": {},
   "outputs": [
    {
     "name": "stdout",
     "output_type": "stream",
     "text": [
      "[12:53:44] WARNING: C:/Users/Administrator/workspace/xgboost-win64_release_1.5.1/src/learner.cc:1115: Starting in XGBoost 1.3.0, the default evaluation metric used with the objective 'binary:logistic' was changed from 'error' to 'logloss'. Explicitly set eval_metric if you'd like to restore the old behavior.\n"
     ]
    },
    {
     "data": {
      "text/plain": [
       "XGBClassifier(base_score=0.5, booster='gbtree', colsample_bylevel=1,\n",
       "              colsample_bynode=1, colsample_bytree=1, enable_categorical=False,\n",
       "              gamma=0, gpu_id=-1, importance_type=None,\n",
       "              interaction_constraints='', learning_rate=0.300000012,\n",
       "              max_delta_step=0, max_depth=6, min_child_weight=1, missing=nan,\n",
       "              monotone_constraints='()', n_estimators=100, n_jobs=8,\n",
       "              num_parallel_tree=1, predictor='auto', random_state=0,\n",
       "              reg_alpha=0, reg_lambda=1, scale_pos_weight=1, subsample=1,\n",
       "              tree_method='exact', use_label_encoder=False,\n",
       "              validate_parameters=1, verbosity=None)"
      ]
     },
     "execution_count": 9,
     "metadata": {},
     "output_type": "execute_result"
    }
   ],
   "source": [
    "model = XGBClassifier(use_label_encoder=False)\n",
    "model.fit(X_train, y_train)"
   ]
  },
  {
   "cell_type": "code",
   "execution_count": 10,
   "id": "aa319bc0",
   "metadata": {},
   "outputs": [
    {
     "data": {
      "text/plain": [
       "{'objective': 'binary:logistic',\n",
       " 'base_score': 0.5,\n",
       " 'booster': 'gbtree',\n",
       " 'colsample_bylevel': 1,\n",
       " 'colsample_bynode': 1,\n",
       " 'colsample_bytree': 1,\n",
       " 'gamma': 0,\n",
       " 'gpu_id': -1,\n",
       " 'interaction_constraints': '',\n",
       " 'learning_rate': 0.300000012,\n",
       " 'max_delta_step': 0,\n",
       " 'max_depth': 6,\n",
       " 'min_child_weight': 1,\n",
       " 'monotone_constraints': '()',\n",
       " 'n_jobs': 8,\n",
       " 'num_parallel_tree': 1,\n",
       " 'predictor': 'auto',\n",
       " 'random_state': 0,\n",
       " 'reg_alpha': 0,\n",
       " 'reg_lambda': 1,\n",
       " 'scale_pos_weight': 1,\n",
       " 'subsample': 1,\n",
       " 'tree_method': 'exact',\n",
       " 'validate_parameters': 1,\n",
       " 'verbosity': None}"
      ]
     },
     "execution_count": 10,
     "metadata": {},
     "output_type": "execute_result"
    }
   ],
   "source": [
    "model.get_xgb_params()"
   ]
  },
  {
   "cell_type": "code",
   "execution_count": 11,
   "id": "7bcac6a3",
   "metadata": {},
   "outputs": [],
   "source": [
    "y_proba = model.predict_proba(X_test)[:,1]"
   ]
  },
  {
   "cell_type": "code",
   "execution_count": 12,
   "id": "112cd3a1",
   "metadata": {},
   "outputs": [
    {
     "data": {
      "image/png": "[encoded data removed]",
      "text/plain": [
       "<Figure size 360x216 with 2 Axes>"
      ]
     },
     "metadata": {
      "needs_background": "light"
     },
     "output_type": "display_data"
    }
   ],
   "source": [
    "#https://www.kaggle.com/chingchunyeh/heart-disease-report\n",
    "y_pred = model.predict(X_test)\n",
    "cm = confusion_matrix(y_test, y_pred, labels = [1,0])\n",
    "df_cm = pd.DataFrame(cm, index = [1,0],\n",
    "                  columns = [1,0])\n",
    "plt.figure(figsize = (5,3))\n",
    "ax = sns.heatmap(df_cm, annot=True)\n",
    "plt.xlabel('Predicted', fontsize = 15) # x-axis label with fontsize 15\n",
    "plt.ylabel('Actual', fontsize = 15) # y-axis label with fontsize 15\n",
    "plt.show()"
   ]
  },
  {
   "cell_type": "code",
   "execution_count": 13,
   "id": "cedd7fac",
   "metadata": {},
   "outputs": [
    {
     "data": {
      "image/png": "[encoded data removed]",
      "text/plain": [
       "<Figure size 432x288 with 1 Axes>"
      ]
     },
     "metadata": {
      "needs_background": "light"
     },
     "output_type": "display_data"
    }
   ],
   "source": [
    "def plot_auc(y_test, y_proba):\n",
    "    fpr, tpr, threshold =roc_curve(y_test, y_proba)\n",
    "    fig, ax = plt.subplots()\n",
    "    ax.plot(fpr,tpr)\n",
    "    ax.plot([0,1], [0,1], c= \"0.5\", ls=\"--\")\n",
    "    plt.xlim(0.0, 1.0)\n",
    "    plt.ylim(0.0, 1.0)\n",
    "    plt.xlabel(\"FPR or 1-Specificity\")\n",
    "    plt.ylabel(\"TPR or Sensitivity\")\n",
    "    plt.rcParams[\"font.size\"] = 10\n",
    "    plt.grid(True)\n",
    "    plt.show()\n",
    "plot_auc(y_test, y_proba)"
   ]
  },
  {
   "cell_type": "code",
   "execution_count": 14,
   "id": "7f5001a6",
   "metadata": {},
   "outputs": [
    {
     "data": {
      "text/plain": [
       "0.88"
      ]
     },
     "execution_count": 14,
     "metadata": {},
     "output_type": "execute_result"
    }
   ],
   "source": [
    "fpr, tpr, threshold =roc_curve(y_test, y_proba)\n",
    "np.around(auc(fpr, tpr),2)"
   ]
  },
  {
   "cell_type": "markdown",
   "id": "73ee4a3b",
   "metadata": {},
   "source": [
    "## XGBoost with Hyperparameter tuning"
   ]
  },
  {
   "cell_type": "markdown",
   "id": "922e3da4",
   "metadata": {},
   "source": [
    "The various Booster hyperparameters are: \n",
    "\n",
    "- **eta** (learning rate)\n",
    "- **gamma** (specifies the minimum loss reduction required to make a split)\n",
    "- **max_depth** (maximum depth of the tree)\n",
    "- **min_child_weight** (the larger min_child_weight is, the more conservative the algorithm will be)\n",
    "- **max_delta_step** (maximum delta step we allow each tree’s weight estimation to be)\n",
    "- **subsample** (denotes the fraction of observations to be randomly samples for each tree)\n",
    "- **colsample_bytree, colsample_bylevel, colsample_bynode** (family of parameters for subsampling of columns)\n",
    "- **lambda** (l2 regularization term) \n",
    "- **alpha** (l1 regularization term) \n",
    "- **scale_pos_weight** (a value >0 should be used in case of high class imbalance as it helps in faster convergence)\n",
    "\n",
    "The various learning hyperparameters are: \n",
    "\n",
    "- **objective** (defines loss function to be minimized)\n",
    "- **eval_metric** (the metric used for validation data)"
   ]
  },
  {
   "cell_type": "code",
   "execution_count": 15,
   "id": "87f68694",
   "metadata": {},
   "outputs": [],
   "source": [
    "#Define a timer function \n",
    "def timer(start_time=None):\n",
    "    if not start_time:\n",
    "        start_time = datetime.now()\n",
    "        return start_time\n",
    "    elif start_time:\n",
    "        thour, temp_sec = divmod((datetime.now() - start_time).total_seconds(), 3600)\n",
    "        tmin, tsec = divmod(temp_sec, 60)\n",
    "        print('\\n Time taken: %i hours %i minutes and %s seconds.' % (thour, tmin, round(tsec, 2)))"
   ]
  },
  {
   "cell_type": "markdown",
   "id": "ba7c4a21",
   "metadata": {},
   "source": [
    "### Using Random Search\n",
    "\n",
    "https://www.kaggle.com/tilii7/hyperparameter-grid-search-with-xgboost"
   ]
  },
  {
   "cell_type": "code",
   "execution_count": 27,
   "id": "ba688cf0",
   "metadata": {},
   "outputs": [],
   "source": [
    "params = {\n",
    "        'eta':[0.01, 0.02, 0.05, 0.1, 0.2],\n",
    "        'gamma': [0.5, 1, 1.5, 2, 5],\n",
    "        'max_depth': [3, 4, 5, 6],\n",
    "        'min_child_weight': [1, 5, 10],\n",
    "        'subsample': [0.6, 0.8, 1.0],\n",
    "        'colsample_bytree': [0.6, 0.8, 1.0],\n",
    "        'n_estimators':[100,200,400,100]\n",
    "        }"
   ]
  },
  {
   "cell_type": "code",
   "execution_count": 28,
   "id": "e925d90b",
   "metadata": {},
   "outputs": [],
   "source": [
    "xgb = XGBClassifier(objective='binary:logistic',use_label_encoder=False,\n",
    "                    silent=True, nthread=1,eval_metric = 'auc')"
   ]
  },
  {
   "cell_type": "code",
   "execution_count": 29,
   "id": "b3aa3014",
   "metadata": {},
   "outputs": [],
   "source": [
    "folds = 5\n",
    "param_comb = 100\n",
    "\n",
    "skf = StratifiedKFold(n_splits=folds, shuffle = True, random_state = 1001)\n",
    "\n",
    "random_search = RandomizedSearchCV(xgb, param_distributions=params, n_iter=param_comb, scoring='roc_auc', \n",
    "                                   n_jobs=4, cv=skf.split(X_train,y_train), verbose=3, random_state=1001 )"
   ]
  },
  {
   "cell_type": "code",
   "execution_count": 30,
   "id": "d55d7269",
   "metadata": {},
   "outputs": [
    {
     "name": "stdout",
     "output_type": "stream",
     "text": [
      "Fitting 5 folds for each of 100 candidates, totalling 500 fits\n",
      "[13:20:43] WARNING: C:/Users/Administrator/workspace/xgboost-win64_release_1.5.1/src/learner.cc:576: \n",
      "Parameters: { \"silent\" } might not be used.\n",
      "\n",
      "  This could be a false alarm, with some parameters getting used by language bindings but\n",
      "  then being mistakenly passed down to XGBoost core, or some parameter actually being used\n",
      "  but getting flagged wrongly here. Please open an issue if you find any such cases.\n",
      "\n",
      "\n",
      "\n",
      " Time taken: 0 hours 0 minutes and 48.61 seconds.\n"
     ]
    }
   ],
   "source": [
    "start_time = timer(None) # timing starts from this point for \"start_time\" variable\n",
    "random_search.fit(X_train, y_train)\n",
    "timer(start_time) # timing ends here for \"start_time\" variable"
   ]
  },
  {
   "cell_type": "code",
   "execution_count": 42,
   "id": "f1f04751",
   "metadata": {},
   "outputs": [
    {
     "data": {
      "text/plain": [
       "array([0.9068072 , 0.87351779, 0.91381203, 0.89707949, 0.90234958,\n",
       "       0.89190821, 0.88683575, 0.90687308, 0.91585419, 0.89556434,\n",
       "       0.90506148, 0.88434343, 0.9048419 , 0.90487484, 0.90884936,\n",
       "       0.91778656, 0.9034036 , 0.87344093, 0.91431708, 0.87351779,\n",
       "       0.91086957, 0.90832235, 0.89972552, 0.85444664, 0.90393061,\n",
       "       0.91633729, 0.902657  , 0.90638999, 0.91318621, 0.88263065,\n",
       "       0.91001318, 0.90046113, 0.90788318, 0.91801713, 0.88471673,\n",
       "       0.90641195, 0.88270751, 0.9017567 , 0.9045235 , 0.92022398,\n",
       "       0.88357488, 0.90794906, 0.91230786, 0.90497365, 0.89945103,\n",
       "       0.90983751, 0.89604743, 0.89095301, 0.91139657, 0.91980676,\n",
       "       0.90476504, 0.90288757, 0.90995828, 0.90006588, 0.88738472,\n",
       "       0.91332894, 0.88708827, 0.89112868, 0.89268775, 0.91217611,\n",
       "       0.92119016, 0.85471014, 0.90203118, 0.89848485, 0.88794466,\n",
       "       0.90243742, 0.9153711 , 0.91557971, 0.91318621, 0.91490997,\n",
       "       0.88321256, 0.90926658, 0.90981555, 0.90786122, 0.9059069 ,\n",
       "       0.90165788, 0.89539965, 0.89625604, 0.9202679 , 0.91539306,\n",
       "       0.88599034, 0.89850681, 0.90305226, 0.88987703, 0.90108696,\n",
       "       0.90263505, 0.9024484 , 0.90950812, 0.90149319, 0.90873957,\n",
       "       0.90250329, 0.90884936, 0.90399649, 0.90701581, 0.89710145,\n",
       "       0.91350461, 0.90544576, 0.91633729, 0.88799956, 0.89202899])"
      ]
     },
     "execution_count": 42,
     "metadata": {},
     "output_type": "execute_result"
    }
   ],
   "source": [
    "random_search.cv_results_['mean_test_score']"
   ]
  },
  {
   "cell_type": "code",
   "execution_count": 43,
   "id": "41c14a26",
   "metadata": {},
   "outputs": [
    {
     "data": {
      "text/plain": [
       "0.9211901624945102"
      ]
     },
     "execution_count": 43,
     "metadata": {},
     "output_type": "execute_result"
    }
   ],
   "source": [
    "random_search.best_score_"
   ]
  },
  {
   "cell_type": "code",
   "execution_count": 21,
   "id": "cf2a570e",
   "metadata": {},
   "outputs": [
    {
     "data": {
      "image/png": "[encoded data removed]",
      "text/plain": [
       "<Figure size 432x288 with 1 Axes>"
      ]
     },
     "metadata": {
      "needs_background": "light"
     },
     "output_type": "display_data"
    }
   ],
   "source": [
    "y_proba = random_search.predict_proba(X_test)[:,1]\n",
    "def plot_auc(y_test, y_proba):\n",
    "    fpr, tpr, threshold =roc_curve(y_test, y_proba)\n",
    "    fig, ax = plt.subplots()\n",
    "    ax.plot(fpr,tpr)\n",
    "    ax.plot([0,1], [0,1], c= \"0.5\", ls=\"--\")\n",
    "    plt.xlim(0.0, 1.0)\n",
    "    plt.ylim(0.0, 1.0)\n",
    "    plt.xlabel(\"FPR or 1-Specificity\")\n",
    "    plt.ylabel(\"TPR or Sensitivity\")\n",
    "    plt.rcParams[\"font.size\"] = 10\n",
    "    plt.grid(True)\n",
    "    plt.show()\n",
    "plot_auc(y_test, y_proba)"
   ]
  },
  {
   "cell_type": "code",
   "execution_count": 22,
   "id": "2ae267f2",
   "metadata": {},
   "outputs": [
    {
     "data": {
      "text/plain": [
       "0.89"
      ]
     },
     "execution_count": 22,
     "metadata": {},
     "output_type": "execute_result"
    }
   ],
   "source": [
    "fpr, tpr, threshold =roc_curve(y_test, y_proba)\n",
    "np.around(auc(fpr, tpr),2)"
   ]
  },
  {
   "cell_type": "code",
   "execution_count": 23,
   "id": "b3b753b2",
   "metadata": {},
   "outputs": [
    {
     "data": {
      "image/png": "[encoded data removed]",
      "text/plain": [
       "<Figure size 360x216 with 2 Axes>"
      ]
     },
     "metadata": {
      "needs_background": "light"
     },
     "output_type": "display_data"
    }
   ],
   "source": [
    "#https://www.kaggle.com/chingchunyeh/heart-disease-report\n",
    "y_pred = random_search.predict(X_test)\n",
    "cm = confusion_matrix(y_test, y_pred, labels = [1,0])\n",
    "df_cm = pd.DataFrame(cm, index = [1,0],\n",
    "                  columns = [1,0])\n",
    "plt.figure(figsize = (5,3))\n",
    "ax = sns.heatmap(df_cm, annot=True)\n",
    "plt.xlabel('Predicted', fontsize = 15) # x-axis label with fontsize 15\n",
    "plt.ylabel('Actual', fontsize = 15) # y-axis label with fontsize 15\n",
    "plt.show()"
   ]
  },
  {
   "cell_type": "markdown",
   "id": "1f611764",
   "metadata": {},
   "source": [
    "### Using Hyperopt\n",
    "\n",
    "- https://www.kaggle.com/prashant111/a-guide-on-xgboost-hyperparameters-tuning/notebook\n",
    "\n",
    "- https://towardsdatascience.com/a-conceptual-explanation-of-bayesian-model-based-hyperparameter-optimization-for-machine-learning-b8172278050f\n",
    "\n",
    "- https://github.com/gvyshnya/tab-mar-21/blob/main/lgbm-xgb-catb-ensemble-hyperopt.ipynb"
   ]
  },
  {
   "cell_type": "code",
   "execution_count": 84,
   "id": "e743fc10",
   "metadata": {},
   "outputs": [],
   "source": [
    "space={ 'max_depth': scope.int(hp.quniform('max_depth', 10, 24, 1)),\n",
    "        'learning_rate': hp.uniform('learning_rate', 0.01, 0.3),\n",
    "        'gamma': hp.uniform('gamma', 1, 10),\n",
    "        'min_child_weight': scope.int(hp.quniform('min_child_weight', 2, 700, 1)),\n",
    "        'n_estimators': scope.int(hp.quniform('n_estimators',100, 1000, 1)),\n",
    "        'colsample_bytree': hp.uniform('colsample_bytree', 0.5, 0.9),\n",
    "        'subsample': hp.uniform('subsample', 0.5, 1.0),\n",
    "        'reg_lambda': hp.uniform('reg_lambda', 0, 100),\n",
    "        'reg_alpha': hp.uniform('reg_alpha', 1e-5, 0.5),\n",
    "        'objective': 'binary:logistic',\n",
    "        'eval_metric': 'auc',\n",
    "        'n_jobs': -1\n",
    "        }"
   ]
  },
  {
   "cell_type": "code",
   "execution_count": 85,
   "id": "85e84be4",
   "metadata": {},
   "outputs": [],
   "source": [
    "def objective(params):\n",
    "       \n",
    "    clf = XGBClassifier(**params, use_label_encoder=False,) \n",
    "    \n",
    "    auc_score = cross_val_score(clf, X_train, y_train, cv = 5).mean()\n",
    "\n",
    "    return {\"loss\": -1 * auc_score, \"status\": STATUS_OK}\n"
   ]
  },
  {
   "cell_type": "code",
   "execution_count": 86,
   "id": "1c8de54d",
   "metadata": {},
   "outputs": [
    {
     "name": "stdout",
     "output_type": "stream",
     "text": [
      "100%|███████████████████████████████████████████████| 50/50 [02:29<00:00,  2.98s/trial, best loss: -0.8375609756097562]\n"
     ]
    }
   ],
   "source": [
    "trials = Trials()\n",
    "\n",
    "best_hyperparams = fmin(fn = objective,\n",
    "                        space = space,\n",
    "                        algo = tpe.suggest,\n",
    "                        max_evals = 50,\n",
    "                        trials = trials)"
   ]
  },
  {
   "cell_type": "code",
   "execution_count": 87,
   "id": "58beb759",
   "metadata": {},
   "outputs": [
    {
     "data": {
      "text/plain": [
       "{'colsample_bytree': 0.8086293366802387,\n",
       " 'gamma': 3.0183966445687074,\n",
       " 'learning_rate': 0.2985705241980657,\n",
       " 'max_depth': 24.0,\n",
       " 'min_child_weight': 5.0,\n",
       " 'n_estimators': 836.0,\n",
       " 'reg_alpha': 0.007748492746025654,\n",
       " 'reg_lambda': 34.10934524787015,\n",
       " 'subsample': 0.9914024182312549}"
      ]
     },
     "execution_count": 87,
     "metadata": {},
     "output_type": "execute_result"
    }
   ],
   "source": [
    "best_hyperparams"
   ]
  },
  {
   "cell_type": "code",
   "execution_count": 88,
   "id": "af488ac8",
   "metadata": {},
   "outputs": [],
   "source": [
    "best_params = {'colsample_bytree': 0.8086293366802387,\n",
    " 'gamma': 3.0183966445687074,\n",
    " 'learning_rate': 0.2985705241980657,\n",
    " 'max_depth': 24,\n",
    " 'min_child_weight': 5.0,\n",
    " 'n_estimators': 836,\n",
    " 'reg_alpha': 0.007748492746025654,\n",
    " 'reg_lambda': 34.10934524787015,\n",
    " 'subsample': 0.9914024182312549}\n",
    "\n",
    "clf = XGBClassifier(**best_params, use_label_encoder=False) \n"
   ]
  },
  {
   "cell_type": "code",
   "execution_count": 89,
   "id": "23052fc8",
   "metadata": {},
   "outputs": [
    {
     "name": "stdout",
     "output_type": "stream",
     "text": [
      "[14:31:41] WARNING: C:/Users/Administrator/workspace/xgboost-win64_release_1.5.1/src/learner.cc:1115: Starting in XGBoost 1.3.0, the default evaluation metric used with the objective 'binary:logistic' was changed from 'error' to 'logloss'. Explicitly set eval_metric if you'd like to restore the old behavior.\n"
     ]
    },
    {
     "data": {
      "text/plain": [
       "XGBClassifier(base_score=0.5, booster='gbtree', colsample_bylevel=1,\n",
       "              colsample_bynode=1, colsample_bytree=0.8086293366802387,\n",
       "              enable_categorical=False, gamma=3.0183966445687074, gpu_id=-1,\n",
       "              importance_type=None, interaction_constraints='',\n",
       "              learning_rate=0.2985705241980657, max_delta_step=0, max_depth=24,\n",
       "              min_child_weight=5.0, missing=nan, monotone_constraints='()',\n",
       "              n_estimators=836, n_jobs=8, num_parallel_tree=1, predictor='auto',\n",
       "              random_state=0, reg_alpha=0.007748492746025654,\n",
       "              reg_lambda=34.10934524787015, scale_pos_weight=1,\n",
       "              subsample=0.9914024182312549, tree_method='exact',\n",
       "              use_label_encoder=False, validate_parameters=1, verbosity=None)"
      ]
     },
     "execution_count": 89,
     "metadata": {},
     "output_type": "execute_result"
    }
   ],
   "source": [
    "clf.fit(X_train,y_train)"
   ]
  },
  {
   "cell_type": "code",
   "execution_count": 90,
   "id": "894148f3",
   "metadata": {},
   "outputs": [
    {
     "data": {
      "image/png": "[encoded data removed]",
      "text/plain": [
       "<Figure size 432x288 with 1 Axes>"
      ]
     },
     "metadata": {
      "needs_background": "light"
     },
     "output_type": "display_data"
    }
   ],
   "source": [
    "y_proba = clf.predict_proba(X_test)[:,1]\n",
    "def plot_auc(y_test, y_proba):\n",
    "    fpr, tpr, threshold =roc_curve(y_test, y_proba)\n",
    "    fig, ax = plt.subplots()\n",
    "    ax.plot(fpr,tpr)\n",
    "    ax.plot([0,1], [0,1], c= \"0.5\", ls=\"--\")\n",
    "    plt.xlim(0.0, 1.0)\n",
    "    plt.ylim(0.0, 1.0)\n",
    "    plt.xlabel(\"FPR or 1-Specificity\")\n",
    "    plt.ylabel(\"TPR or Sensitivity\")\n",
    "    plt.rcParams[\"font.size\"] = 10\n",
    "    plt.grid(True)\n",
    "    plt.show()\n",
    "plot_auc(y_test, y_proba)"
   ]
  },
  {
   "cell_type": "code",
   "execution_count": 91,
   "id": "8c931c49",
   "metadata": {},
   "outputs": [
    {
     "data": {
      "text/plain": [
       "0.87"
      ]
     },
     "execution_count": 91,
     "metadata": {},
     "output_type": "execute_result"
    }
   ],
   "source": [
    "fpr, tpr, threshold =roc_curve(y_test, y_proba)\n",
    "np.around(auc(fpr, tpr),2)"
   ]
  }
 ],
 "metadata": {
  "kernelspec": {
   "display_name": "Python 3 (ipykernel)",
   "language": "python",
   "name": "python3"
  },
  "language_info": {
   "codemirror_mode": {
    "name": "ipython",
    "version": 3
   },
   "file_extension": ".py",
   "mimetype": "text/x-python",
   "name": "python",
   "nbconvert_exporter": "python",
   "pygments_lexer": "ipython3",
   "version": "3.9.7"
  }
 },
 "nbformat": 4,
 "nbformat_minor": 5
}
